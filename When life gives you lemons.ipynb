{
 "cells": [
  {
   "cell_type": "markdown",
   "id": "3915fa17",
   "metadata": {},
   "source": [
    "# Imports"
   ]
  },
  {
   "cell_type": "code",
   "execution_count": 1,
   "id": "cde1e44a",
   "metadata": {},
   "outputs": [],
   "source": [
    "import cv2\n",
    "import numpy as np\n",
    "import time          # for runtime measuring"
   ]
  },
  {
   "cell_type": "markdown",
   "id": "3c4175f3",
   "metadata": {},
   "source": [
    "# Part 1"
   ]
  },
  {
   "cell_type": "code",
   "execution_count": 2,
   "id": "a8936bbc",
   "metadata": {},
   "outputs": [],
   "source": [
    "def sum_matrix_conv(matrix1, matrix2):\n",
    "    # Number of rows in the first matrix\n",
    "    dim = len(matrix1)\n",
    "    result = 0\n",
    "\n",
    "    # Perform matrix convolution\n",
    "    for i in range(dim):\n",
    "        for j in range(dim):\n",
    "            result += matrix1[i][j] * matrix2[i][j]\n",
    "\n",
    "    return result"
   ]
  },
  {
   "cell_type": "code",
   "execution_count": 3,
   "id": "d9a3913e",
   "metadata": {
    "scrolled": false
   },
   "outputs": [],
   "source": [
    "# pad variable is an int indicating the padding kind to add - 0: zero padding, 1:replicate padding, 2: mirror padding\n",
    "def my_imfilter(s, fil, pad):\n",
    "    in_dim = s.shape[0]\n",
    "    fil_dim = len(fil[0])\n",
    "    pad_num = int(fil_dim/2)\n",
    "    \n",
    "    # creating an array that will be used as the padded image\n",
    "    pad_im = np.zeros((in_dim + 2 * pad_num, in_dim + 2 * pad_num), dtype = np.uint8)\n",
    "    \n",
    "    if (pad == 0): # zero padding\n",
    "        pad_im[pad_num : in_dim + pad_num, pad_num : in_dim + pad_num] = s\n",
    "        \n",
    "    if (pad == 1): # replicate padding\n",
    "        pad_im[pad_num : in_dim + pad_num, pad_num : in_dim + pad_num] = s\n",
    "        # corners\n",
    "        pad_im[ : pad_num,  : pad_num] = s[0][0]\n",
    "        pad_im[ : pad_num, in_dim + pad_num : ] = s[0][in_dim-1]\n",
    "        pad_im[in_dim + pad_num : , : pad_num] = s[in_dim-1][0]\n",
    "        pad_im[in_dim + pad_num : , in_dim + pad_num : ] = s[in_dim-1][in_dim-1]\n",
    "        # columns\n",
    "        pad_im[pad_num : in_dim + pad_num, : pad_num] = s[:, 0][:, np.newaxis]\n",
    "        pad_im[pad_num : in_dim + pad_num, in_dim + pad_num : ] = s[:, -1][:, np.newaxis]\n",
    "        # rows\n",
    "        pad_im[ : pad_num, pad_num : in_dim + pad_num] = s[0, :]\n",
    "        pad_im[in_dim + pad_num : , pad_num : in_dim + pad_num] = s[-1, :]\n",
    "        \n",
    "    if (pad == 2): # mirror padding\n",
    "        pad_im[pad_num : in_dim + pad_num, pad_num : in_dim + pad_num] = s\n",
    "        # sides\n",
    "        pad_im[pad_num : in_dim + pad_num, : pad_num] = s[:, pad_num:0 :-1]\n",
    "        pad_im[pad_num : in_dim + pad_num, in_dim + pad_num : ] = s[:, in_dim - 2 : in_dim - pad_num - 2 :-1]\n",
    "        # top & bottom\n",
    "        pad_im[ : pad_num , : ] = pad_im[2 * pad_num : pad_num :-1, : ]\n",
    "        pad_im[pad_num + in_dim :  , : ] = pad_im[pad_num + in_dim - 2 : in_dim-2 :-1, : ]\n",
    "\n",
    "    out_image = np.zeros((in_dim, in_dim), dtype = np.uint8)\n",
    "    \n",
    "    for i in range (in_dim):\n",
    "        for j in range (in_dim):\n",
    "            out_image[i][j] = sum_matrix_conv(pad_im[i : i + fil_dim, j : j + fil_dim], fil)\n",
    "            if (out_image[i][j] > 256):\n",
    "                out_image[i][j] = 256\n",
    "            if (out_image[i][j] < 0):\n",
    "                out_image[i][j] = 0\n",
    "    \n",
    "    return out_image"
   ]
  },
  {
   "cell_type": "markdown",
   "id": "471cf6ba",
   "metadata": {},
   "source": [
    "# Part 2"
   ]
  },
  {
   "cell_type": "code",
   "execution_count": 4,
   "id": "f1579185",
   "metadata": {},
   "outputs": [],
   "source": [
    "# nlf variable is a string that indicates what non-linear filter will be applied.\n",
    "# we implemented median filter and average filter.\n",
    "def my_im_nl_filter(s, m, n, nlf, pad):\n",
    "    in_dim = s.shape[0]\n",
    "    pad_rows = int(m/2)\n",
    "    pad_cols = int(n/2)\n",
    "    \n",
    "    # creating an array that will be used as the padded image\n",
    "    pad_im = np.zeros((in_dim + 2 * pad_rows, in_dim + 2 * pad_cols), dtype = np.uint8)\n",
    "    \n",
    "    if (pad == 0): # zero padding\n",
    "        pad_im[pad_rows : in_dim + pad_rows, pad_cols : in_dim + pad_cols] = s\n",
    "        \n",
    "    if (pad == 1): # replicate padding\n",
    "        pad_im[pad_rows : in_dim + pad_rows, pad_cols : in_dim + pad_cols] = s\n",
    "        # corners\n",
    "        pad_im[ : pad_rows,  : pad_cols] = s[0][0]\n",
    "        pad_im[ : pad_rows, in_dim + pad_cols : ] = s[0][in_dim-1]\n",
    "        pad_im[in_dim + pad_rows : , : pad_cols] = s[in_dim-1][0]\n",
    "        pad_im[in_dim + pad_rows : , in_dim + pad_cols : ] = s[in_dim-1][in_dim-1]\n",
    "        # columns\n",
    "        pad_im[pad_rows : in_dim + pad_rows, : pad_cols] = s[:, 0][:, np.newaxis]\n",
    "        pad_im[pad_rows : in_dim + pad_rows, in_dim + pad_cols : ] = s[:, -1][:, np.newaxis]\n",
    "        # rows\n",
    "        pad_im[ : pad_rows, pad_cols : in_dim + pad_cols] = s[0, :]\n",
    "        pad_im[in_dim + pad_rows : , pad_cols : in_dim + pad_cols] = s[-1, :]\n",
    "        \n",
    "    if (pad == 2): # mirror padding\n",
    "        pad_im[pad_rows : in_dim + pad_rows, pad_cols : in_dim + pad_cols] = s\n",
    "        # sides\n",
    "        pad_im[pad_rows : in_dim + pad_rows, : pad_cols] = s[:, pad_cols:0 :-1]\n",
    "        pad_im[pad_rows : in_dim + pad_rows, in_dim + pad_cols : ] = s[:, in_dim - 2 : in_dim - pad_cols - 2 :-1]\n",
    "        # top & bottom\n",
    "        pad_im[ : pad_rows , : ] = pad_im[2 * pad_rows : pad_rows :-1, : ]\n",
    "        pad_im[pad_rows + in_dim :  , : ] = pad_im[pad_rows + in_dim - 2 : in_dim-2 :-1, : ]\n",
    "\n",
    "    out_image = np.zeros((in_dim, in_dim), dtype = np.uint8)\n",
    "    \n",
    "    if (nlf == 'median'):\n",
    "        for i in range (in_dim):\n",
    "            for j in range (in_dim):\n",
    "                out_image[i][j] = np.median(pad_im[i : i + m, j : j + n])\n",
    "    \n",
    "    if (nlf == 'average'):\n",
    "        for i in range (in_dim):\n",
    "            for j in range (in_dim):\n",
    "                out_image[i][j] = int(np.average(pad_im[i : i + m, j : j + n]))\n",
    "    \n",
    "    return out_image"
   ]
  },
  {
   "cell_type": "code",
   "execution_count": 5,
   "id": "cb2fbcdb",
   "metadata": {},
   "outputs": [],
   "source": [
    "def add_salt_and_pepper_noise(image, salt_prob, pepper_prob):    \n",
    "    row, col = image.shape\n",
    "    s_vs_p = 0.5\n",
    "    \n",
    "    # Salt noise\n",
    "    num_salt = np.ceil(salt_prob * image.size * s_vs_p)\n",
    "    coords = [np.random.randint(0, i - 1, int(num_salt)) for i in image.shape]\n",
    "    image[coords[0], coords[1]] = 255\n",
    "\n",
    "    # Pepper noise\n",
    "    num_pepper = np.ceil(pepper_prob * image.size * (1.0 - s_vs_p))\n",
    "    coords = [np.random.randint(0, i - 1, int(num_pepper)) for i in image.shape]\n",
    "    image[coords[0], coords[1]] = 0\n",
    "\n",
    "    return image"
   ]
  },
  {
   "cell_type": "markdown",
   "id": "c924a8ef",
   "metadata": {},
   "source": [
    "# \"Main\""
   ]
  },
  {
   "cell_type": "code",
   "execution_count": 6,
   "id": "34a1e8d6",
   "metadata": {},
   "outputs": [],
   "source": [
    "img=cv2.imread(\"lemons.jpg\")\n",
    "img = cv2.resize(img, (256, 256))\n",
    "gray_img = cv2.cvtColor(img, cv2.COLOR_BGR2GRAY)"
   ]
  },
  {
   "cell_type": "code",
   "execution_count": 7,
   "id": "29963abb",
   "metadata": {},
   "outputs": [
    {
     "name": "stdout",
     "output_type": "stream",
     "text": [
      "Our sharpening time is: 1.3822879791259766 seconds, the library filter2D sharpening time is: 0.0 seconds\n",
      "Our smoothing time is: 1.422196865081787 seconds, the library filter2D smoothing time is: 0.0009982585906982422 seconds\n"
     ]
    }
   ],
   "source": [
    "sharpen = np.array([[0, -1, 0], [-1, 5, -1], [0, -1, 0]]) # One Pass Laplace filter 3x3\n",
    "smoothen = np.array([[1/9, 1/9, 1/9], [1/9, 1/9, 1/9], [1/9, 1/9, 1/9]]) # Smooth filter 3x3\n",
    "\n",
    "# getting the time before and after each filter so we can measure the runtime of our functions\n",
    "time1 = time.time()\n",
    "sharped_image = my_imfilter(gray_img, sharpen, 0)\n",
    "time2 = time.time()\n",
    "smoothed_image = my_imfilter(gray_img, smoothen, 0)\n",
    "time3 = time.time()\n",
    "lib_smooth = cv2.filter2D(gray_img, -1, smoothen)\n",
    "time4 = time.time()\n",
    "lib_sharp = cv2.filter2D(gray_img, -1, sharpen)\n",
    "time5 = time.time()\n",
    "\n",
    "print(\"Our sharpening time is: {} seconds, the library filter2D sharpening time is: {} seconds\"\n",
    "      .format(time2-time1, time5-time4))\n",
    "print(\"Our smoothing time is: {} seconds, the library filter2D smoothing time is: {} seconds\"\n",
    "      .format(time3-time2, time4-time3))\n",
    "\n",
    "# showing and saving the results of each filter we applied\n",
    "cv2.imshow(\"Grayscale\", gray_img)\n",
    "cv2.imwrite('gray_img.jpg', gray_img)\n",
    "\n",
    "cv2.imshow(\"Sharpened\", sharped_image)\n",
    "cv2.imwrite('sharped_image.jpg', sharped_image)\n",
    "\n",
    "cv2.imshow(\"Smoothed\", smoothed_image)\n",
    "cv2.imwrite('smoothed_image.jpg', smoothed_image)\n",
    "\n",
    "cv2.imshow(\"Lib Smoothen\", lib_smooth)\n",
    "cv2.imwrite('lib_smooth.jpg', lib_smooth)\n",
    "\n",
    "cv2.imshow(\"Lib Sharpen\", lib_sharp)\n",
    "cv2.imwrite('lib_sharp.jpg', lib_sharp)\n",
    "\n",
    "cv2.waitKey(0)\n",
    "cv2.destroyAllWindows()"
   ]
  },
  {
   "cell_type": "code",
   "execution_count": 9,
   "id": "12175021",
   "metadata": {},
   "outputs": [],
   "source": [
    "# Add salt and pepper noise\n",
    "noisy_image = add_salt_and_pepper_noise(gray_img, salt_prob=0.1, pepper_prob=0.1)\n",
    "\n",
    "# Save or display the result\n",
    "cv2.imwrite('noisy_image.jpg', noisy_image)\n",
    "cv2.imshow('Noisy Image', noisy_image)\n",
    "\n",
    "smoothed_snp = my_imfilter(noisy_image, smoothen, 0)\n",
    "\n",
    "cv2.imwrite('smoothed_snp.jpg', smoothed_snp)\n",
    "cv2.imshow('Smoothed SnP', smoothed_snp)\n",
    "\n",
    "median_im = my_im_nl_filter(gray_img, 3, 5, 'median', 0)\n",
    "\n",
    "cv2.imwrite('median_im.jpg', median_im)\n",
    "cv2.imshow('Median_im', median_im)\n",
    "\n",
    "cv2.waitKey(0)\n",
    "cv2.destroyAllWindows()"
   ]
  },
  {
   "cell_type": "code",
   "execution_count": null,
   "id": "58f98f6d",
   "metadata": {},
   "outputs": [],
   "source": []
  }
 ],
 "metadata": {
  "kernelspec": {
   "display_name": "Python 3 (ipykernel)",
   "language": "python",
   "name": "python3"
  },
  "language_info": {
   "codemirror_mode": {
    "name": "ipython",
    "version": 3
   },
   "file_extension": ".py",
   "mimetype": "text/x-python",
   "name": "python",
   "nbconvert_exporter": "python",
   "pygments_lexer": "ipython3",
   "version": "3.9.13"
  }
 },
 "nbformat": 4,
 "nbformat_minor": 5
}
